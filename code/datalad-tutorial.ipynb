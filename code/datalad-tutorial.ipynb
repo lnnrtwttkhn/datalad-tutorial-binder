{
 "cells": [
  {
   "cell_type": "markdown",
   "id": "e1a70870",
   "metadata": {},
   "source": [
    "# Version Control of Data with DataLad\n",
    "\n",
    "## Contents\n",
    "\n",
    "0. [Introduction and setup](#0)\n",
    "1. [Creating a Datalad dataset](#1)\n",
    "2. [Version control workflows](#2)\n",
    "3. [Dataset consumption and nesting](#3)\n",
    "4. [Dataset nesting](#4)\n",
    "5. [More on data versioning, nesting, and a glimpse into reproducible paper](#5)\n",
    "6. [Full provenance capture and reproducibility](#6)\n",
    "\n",
    "## About this notebook\n",
    "\n",
    "You can execute all the code cells below in this Jupyter Notebook running in [MyBinder](https://mybinder.org/).\n",
    "Alternatively, if you have DataLad and its dependencies installed, you can copy and paste the code into your computer's command line to follow along.\n",
    "\n",
    "## Acknowledgements\n",
    "\n",
    "This tutorial was initially created by Adina Wagner for the 2020 OHBM Brainhack Traintrack session on DataLad.\n",
    "This notebook accompanies [this tutorial video](https://www.youtube.com/watch?v=L5A0MXqFrOY) by Adina Wagner."
   ]
  },
  {
   "cell_type": "markdown",
   "id": "6b6d30ab",
   "metadata": {},
   "source": [
    "<div id=\"0\"></div>\n",
    "\n",
    "## 0. Introduction & setup\n",
    "\n",
    "[DataLad](https://www.datalad.org/) is a data management multitool that can assist you in handling the entire life cycle of digital objects.\n",
    "It is a command-line tool, free and open source, and available for all major operating systems.\n",
    "In the command line, all operations begin with the general `datalad` command."
   ]
  },
  {
   "cell_type": "code",
   "execution_count": null,
   "id": "9fcc7a99",
   "metadata": {
    "hide-output": false
   },
   "outputs": [],
   "source": [
    "# datalad"
   ]
  },
  {
   "cell_type": "markdown",
   "id": "ea99f372",
   "metadata": {},
   "source": [
    "For example, I can type `datalad --help` to find out more about the available commands."
   ]
  },
  {
   "cell_type": "markdown",
   "id": "4713888f",
   "metadata": {},
   "source": [
    "You can find more details about how to [install DataLad and its dependencies on all operating systems in the DataLad Handbook](https://handbook.datalad.org/en/latest/intro/installation.html).\n",
    "This section also explains how to install DataLad on shared machines where you may not have administrative privileges (`sudo` rights), such as high-performance computing clusters.\n",
    "If you already have DataLad installed, **make sure that it is a recent version**.\n",
    "You can check the installed version using the `datalad --version` command:"
   ]
  },
  {
   "cell_type": "code",
   "execution_count": null,
   "id": "d15523dc",
   "metadata": {
    "hide-output": false
   },
   "outputs": [],
   "source": [
    "datalad --version"
   ]
  },
  {
   "cell_type": "markdown",
   "id": "6965aaa9",
   "metadata": {},
   "source": [
    "### Configuring your Git identity\n",
    "\n",
    "The first step, if you haven't done so already, is to configure your [Git](https://git-scm.com/) identity.\n",
    "If you're new to Git, don't worry!\n",
    "This configuration simply involves setting your name and email address, which will associate your changes in a project with you as the author.\n",
    "\n",
    "Below, we provide instructions on how to configure your Git identity.\n",
    "However, please note that a central Git configuration has already been set up for you during the `postBuild` process of Binder, so you don't need to perform this step manually.\n",
    "That's why the code examples below is commented out."
   ]
  },
  {
   "cell_type": "code",
   "execution_count": null,
   "id": "d17bb088",
   "metadata": {
    "hide-output": false
   },
   "outputs": [],
   "source": [
    "# git config --global --add user.name \"Your name\"\n",
    "# git config --global --add user.email \"Your email address\""
   ]
  },
  {
   "cell_type": "markdown",
   "id": "60669557",
   "metadata": {},
   "source": [
    "<div id=\"1\"></div>\n",
    "\n",
    "## 1. Creating a DataLad dataset\n",
    "\n",
    "Every command in DataLad affects or uses DataLad *datasets*, the core data structure of DataLad.\n",
    "A dataset is a directory on a computer that DataLad manages.\n",
    "You can create new, empty datasets from scratch and populate them, or transform existing directories into datasets.\n",
    "\n",
    "<img src=\"https://handbook.datalad.org/en/latest/_images/dataset.svg\" style=\"width: 400px;\"/>\n",
    "\n",
    "Let's start by creating a new DataLad dataset.\n",
    "Creating a new dataset is accomplished using the `datalad create` command.\n",
    "This command requires only a name for the dataset.\n",
    "It will then create a new directory with that name and instruct DataLad to manage it.\n",
    "\n",
    "Additionally, the command includes an option, `-c text2git`.\n",
    "The `-c` option allows for specific configurations of the dataset at the time of creation.\n",
    "You can find detailed information about the `text2git` configuration in the DataLad handbook, specifically in the [sections on configurations and procedures](https://handbook.datalad.org/en/latest/basics/basics-configuration.html).\n",
    "Dont't worry about configurations for now.\n",
    "In general, this configuration serves as a very useful standard for datasets."
   ]
  },
  {
   "cell_type": "code",
   "execution_count": null,
   "id": "0d734222",
   "metadata": {
    "hide-output": false
   },
   "outputs": [],
   "source": [
    "datalad create -c text2git DataLad-101"
   ]
  },
  {
   "cell_type": "markdown",
   "id": "141687b2",
   "metadata": {},
   "source": [
    "Right after dataset creation, there is a new directory on the computer called `DataLad-101`.\n",
    "Let's navigate into this directory using the `cd` command and list the directory contents using `ls`."
   ]
  },
  {
   "cell_type": "code",
   "execution_count": null,
   "id": "055c5e8b",
   "metadata": {
    "hide-output": false
   },
   "outputs": [],
   "source": [
    "cd DataLad-101"
   ]
  },
  {
   "cell_type": "code",
   "execution_count": null,
   "id": "32616264",
   "metadata": {},
   "outputs": [],
   "source": [
    "ls # ls does not show any output, because the dataset is empty"
   ]
  },
  {
   "cell_type": "markdown",
   "id": "03863da6",
   "metadata": {},
   "source": [
    "Datasets have the exciting feature of recording everything done within them.\n",
    "They provide version control for all content managed by DataLad, regardless of its size.\n",
    "Additionally, datasets maintain a complete history that you can interact with.\n",
    "This history is already present, although it is quite short at this point in time.\n",
    "Let’s take a look at it nonetheless.\n",
    "This history exists thanks to Git.\n",
    "You can access the history of a dataset using any tool that displays Git history.\n",
    "For simplicity, we will use Git's built-in `git log` command."
   ]
  },
  {
   "cell_type": "code",
   "execution_count": null,
   "id": "58f4e23c",
   "metadata": {
    "hide-output": false
   },
   "outputs": [],
   "source": [
    "git log"
   ]
  },
  {
   "cell_type": "markdown",
   "id": "99b86348",
   "metadata": {},
   "source": [
    "<div id=\"2\"></div>\n",
    "\n",
    "## 2. Version control workflows\n",
    "\n",
    "Building on top of [Git](https://git-scm.com/) and [git-annex](https://git-annex.branchable.com/), DataLad allows you to version control arbitrarily large files in datasets.\n",
    "You can keep track of revisions of data of any size, and view, interact with or restore any version of your dataset’s history.\n",
    "\n",
    "<img src=\"https://handbook.datalad.org/en/latest/_images/local_wf.svg\" style=\"width: 400px;\"/>\n",
    "\n",
    "Let's start by creating a `books` directory using the `mkdir` command.\n",
    "Next, we will download two books from the internet.\n",
    "Here, we are using the command line tool `curl` to accomplish this, allowing us to perform all actions from the command line.\n",
    "However, if you prefer, you can also download the books manually and save them into the dataset using a file manager.\n",
    "Remember, a dataset is simply a directory on your computer."
   ]
  },
  {
   "cell_type": "code",
   "execution_count": null,
   "id": "b80be1b8",
   "metadata": {
    "hide-output": false
   },
   "outputs": [],
   "source": [
    "mkdir books"
   ]
  },
  {
   "cell_type": "code",
   "execution_count": null,
   "id": "f2f23e87",
   "metadata": {},
   "outputs": [],
   "source": [
    "cd books"
   ]
  },
  {
   "cell_type": "code",
   "execution_count": null,
   "id": "94e692de",
   "metadata": {},
   "outputs": [],
   "source": [
    "curl -L -o TLCL.pdf https://sourceforge.net/projects/linuxcommand/files/TLCL/19.01/TLCL-19.01.pdf/download\n",
    "curl -L -o byte-of-python.pdf https://edisciplinas.usp.br/pluginfile.php/3252353/mod_resource/content/1/b_Swaroop_Byte_of_python.pdf"
   ]
  },
  {
   "cell_type": "markdown",
   "id": "473079b6",
   "metadata": {},
   "source": [
    "Let's navigate back to the dataset root (`DataLad-101` folder)  and run he `tree` command which can visualize the directory hierarchy:"
   ]
  },
  {
   "cell_type": "code",
   "execution_count": null,
   "id": "ea6bf38c",
   "metadata": {},
   "outputs": [],
   "source": [
    "cd ../"
   ]
  },
  {
   "cell_type": "code",
   "execution_count": null,
   "id": "49b93b6e",
   "metadata": {
    "hide-output": false
   },
   "outputs": [],
   "source": [
    "tree"
   ]
  },
  {
   "cell_type": "markdown",
   "id": "c60b35fe",
   "metadata": {},
   "source": [
    "Use the `datalad status` command to find out what has happened in the dataset.\n",
    "This command is very helpful as it reports on the current state of your dataset.\n",
    "Any new or changed content will be highlighted.\n",
    "If nothing has changed, the `datalad status` command will report what is known as a clean dataset state.\n",
    "In general, it is very useful to maintain a clean dataset state.\n",
    "If you know Git, you can think about `datalad status` as the `git status` of DataLad."
   ]
  },
  {
   "cell_type": "code",
   "execution_count": null,
   "id": "053d8d9d",
   "metadata": {
    "hide-output": false
   },
   "outputs": [],
   "source": [
    "datalad status"
   ]
  },
  {
   "cell_type": "markdown",
   "id": "fb0a871a",
   "metadata": {},
   "source": [
    "Any content that we want DataLad to manage needs to be explicitly added to DataLad.\n",
    "It is not enough to simply place it inside the dataset.\n",
    "To give new or changed content to DataLad, we need to save it using `datalad save`.\n",
    "This is the first time we need to specify a \"commit message\", which is done using the `-m` option of the command.\n",
    "A \"commit\" is a snapshot of your project's files at a specific point in time.\n",
    "The commit message is a short text description that explains the changes made when saving the current changes in a Datalad dataset."
   ]
  },
  {
   "cell_type": "code",
   "execution_count": null,
   "id": "062b3da4",
   "metadata": {
    "hide-output": false
   },
   "outputs": [],
   "source": [
    "datalad save -m \"Add books on Python and Unix to read later\""
   ]
  },
  {
   "cell_type": "markdown",
   "id": "405c22d9",
   "metadata": {},
   "source": [
    "With `git log -n 1` you can take a look at the most recent commit in the history:"
   ]
  },
  {
   "cell_type": "code",
   "execution_count": null,
   "id": "507d563c",
   "metadata": {
    "hide-output": false
   },
   "outputs": [],
   "source": [
    "git log -n 1"
   ]
  },
  {
   "cell_type": "markdown",
   "id": "ad6284e2",
   "metadata": {},
   "source": [
    "`datalad save` saves all untracked content to the dataset.\n",
    "Sometimes, this can be inconvenient.\n",
    "One significant advantage of a dataset's history is that it allows you to revert changes you are not happy with.\n",
    "However, this is only easily possible at the level of single commits.\n",
    "If one save commits several unrelated files or changes, it can be difficult to disentangle them if you ever want to revert some of those changes.\n",
    "To address this, you can provide a path to the specific file you want to save, allowing you to specify more precisely what will be saved together.\n",
    "\n",
    "Let's demonstrate this by adding another book from the internet:"
   ]
  },
  {
   "cell_type": "code",
   "execution_count": null,
   "id": "b976170c",
   "metadata": {
    "hide-output": false
   },
   "outputs": [],
   "source": [
    "cd books"
   ]
  },
  {
   "cell_type": "code",
   "execution_count": null,
   "id": "2d7d3c58",
   "metadata": {},
   "outputs": [],
   "source": [
    "curl -L -o progit.pdf https://github.com/progit/progit2/releases/download/2.1.154/progit.pdf"
   ]
  },
  {
   "cell_type": "code",
   "execution_count": null,
   "id": "7895ae42",
   "metadata": {},
   "outputs": [],
   "source": [
    "cd ../"
   ]
  },
  {
   "cell_type": "code",
   "execution_count": null,
   "id": "639f00d1",
   "metadata": {},
   "outputs": [],
   "source": [
    "datalad status"
   ]
  },
  {
   "cell_type": "markdown",
   "id": "f5f89d8c",
   "metadata": {},
   "source": [
    "Now when you run `datalad save`, attach a path to the command:"
   ]
  },
  {
   "cell_type": "code",
   "execution_count": null,
   "id": "d2fb97e0",
   "metadata": {
    "hide-output": false
   },
   "outputs": [],
   "source": [
    "datalad save -m \"Add reference book about Git\" books/progit.pdf"
   ]
  },
  {
   "cell_type": "markdown",
   "id": "9c2b7a04",
   "metadata": {},
   "source": [
    "Let's take a look at files that are frequently modified, such as code or text.\n",
    "To demonstrate this, we will create a file and modify it.\n",
    "We will use a [here doc](https://en.wikipedia.org/wiki/Here_document) for this, but you can also write the note using an editor of your choice.\n",
    "If you execute this code snippet, make sure to copy and paste everything, starting with `cat` and ending with the second `EOT`."
   ]
  },
  {
   "cell_type": "code",
   "execution_count": null,
   "id": "83ee9e9d",
   "metadata": {
    "hide-output": false
   },
   "outputs": [],
   "source": [
    "cat << EOT > notes.txt\n",
    "A DataLad dataset can be created with \"datalad create PATH\".\n",
    "The dataset is created empty.\n",
    "\n",
    "EOT"
   ]
  },
  {
   "cell_type": "markdown",
   "id": "05234f6a",
   "metadata": {},
   "source": [
    "`datalad status` will, as expected, say that there is a new untracked file in the\n",
    "dataset:"
   ]
  },
  {
   "cell_type": "code",
   "execution_count": null,
   "id": "3c5552cb",
   "metadata": {
    "hide-output": false
   },
   "outputs": [],
   "source": [
    "datalad status"
   ]
  },
  {
   "cell_type": "markdown",
   "id": "b8c9523a",
   "metadata": {},
   "source": [
    "We can save the newly created `notes.txt`-file with the `datalad save` command and a helpful commit message.\n",
    "As this is the only change in the dataset, there is no need to provide a path:"
   ]
  },
  {
   "cell_type": "code",
   "execution_count": null,
   "id": "e7d41f70",
   "metadata": {
    "hide-output": false
   },
   "outputs": [],
   "source": [
    "datalad save -m \"Add notes on datalad create\""
   ]
  },
  {
   "cell_type": "markdown",
   "id": "3320b4d9",
   "metadata": {},
   "source": [
    "Let’s now add another note to modifiy this file:"
   ]
  },
  {
   "cell_type": "code",
   "execution_count": null,
   "id": "8533849e",
   "metadata": {
    "hide-output": false
   },
   "outputs": [],
   "source": [
    "cat << EOT >> notes.txt\n",
    "The command \"datalad save [-m] PATH\" saves the file (modifications) to history.\n",
    "Note to self: Always use informative and concise commit messages.\n",
    "\n",
    "EOT"
   ]
  },
  {
   "cell_type": "markdown",
   "id": "fc2e590d",
   "metadata": {},
   "source": [
    "A `datalad status` command reports the file as not untracked.\n",
    "However, because it differs from the state it was saved under, it is reported as modified."
   ]
  },
  {
   "cell_type": "code",
   "execution_count": null,
   "id": "69eb3371",
   "metadata": {
    "hide-output": false
   },
   "outputs": [],
   "source": [
    "datalad status"
   ]
  },
  {
   "cell_type": "markdown",
   "id": "de1d6435",
   "metadata": {},
   "source": [
    "Let’s save this:"
   ]
  },
  {
   "cell_type": "code",
   "execution_count": null,
   "id": "604916a0",
   "metadata": {
    "hide-output": false
   },
   "outputs": [],
   "source": [
    "datalad save -m \"Add notes on datalad save\""
   ]
  },
  {
   "cell_type": "markdown",
   "id": "ad592fa2",
   "metadata": {},
   "source": [
    "If you take a look at the history of this file with `git log`, the history\n",
    "neatly summarizes all of the changes that have been done:"
   ]
  },
  {
   "cell_type": "code",
   "execution_count": null,
   "id": "d95910d9",
   "metadata": {
    "hide-output": false
   },
   "outputs": [],
   "source": [
    "git log -n 2"
   ]
  },
  {
   "cell_type": "markdown",
   "id": "6f1a57e9",
   "metadata": {},
   "source": [
    "<div id=\"3\"></div>\n",
    "\n",
    "## 3. Dataset consumption\n",
    "\n",
    "DataLad lets you consume datasets provided by others, and collaborate with them.\n",
    "You can install existing datasets and update them from their sources, or create sibling datasets that you can publish updates to and pull updates from for collaboration and data sharing.\n",
    "\n",
    "<img src=\"https://handbook.datalad.org/en/latest/_images/collaboration.svg\" style=\"width: 600px;\"/>\n",
    "\n",
    "To demonstrate this, let's first create a new subdirectory to be organized:"
   ]
  },
  {
   "cell_type": "code",
   "execution_count": null,
   "id": "af1052b9",
   "metadata": {
    "hide-output": false
   },
   "outputs": [],
   "source": [
    "mkdir recordings"
   ]
  },
  {
   "cell_type": "markdown",
   "id": "199a5b0f",
   "metadata": {},
   "source": [
    "Afterwards, let's install an existing dataset, either from a path or a URL.\n",
    "The dataset we want to install in this example is hosted on GitHub, so we will provide its URL to the `datalad clone` command.\n",
    "We will also specify a path where we want it to be installed.\n",
    "Importantly, we are installing this dataset as a subdataset of `DataLad-101`, which means we will *nest* the two datasets inside each other.\n",
    "This is accomplished using the `--dataset` flag."
   ]
  },
  {
   "cell_type": "code",
   "execution_count": null,
   "id": "4e302e55",
   "metadata": {
    "hide-output": false
   },
   "outputs": [],
   "source": [
    "datalad clone --dataset . https://github.com/datalad-datasets/longnow-podcasts.git recordings/longnow"
   ]
  },
  {
   "cell_type": "markdown",
   "id": "36e85611",
   "metadata": {},
   "source": [
    "There are new directories in the `DataLad-101` dataset.\n",
    "Within these new directories, there are hundreds of MP3 files."
   ]
  },
  {
   "cell_type": "code",
   "execution_count": null,
   "id": "b8016e8f",
   "metadata": {
    "hide-output": false
   },
   "outputs": [],
   "source": [
    "tree -d # we limit the output of the tree command to directories"
   ]
  },
  {
   "cell_type": "markdown",
   "id": "8bd7b9ac",
   "metadata": {},
   "source": [
    "Let's move into one of these directories and take a look at its contents:"
   ]
  },
  {
   "cell_type": "code",
   "execution_count": null,
   "id": "5bc5ae1e",
   "metadata": {},
   "outputs": [],
   "source": [
    "cd recordings/longnow/Long_Now__Seminars_About_Long_term_Thinking"
   ]
  },
  {
   "cell_type": "code",
   "execution_count": null,
   "id": "1a88d7c6",
   "metadata": {},
   "outputs": [],
   "source": [
    "ls"
   ]
  },
  {
   "cell_type": "markdown",
   "id": "24956ccf",
   "metadata": {},
   "source": [
    "### Have access to more data than you have disk space: `get` and `drop`\n",
    "\n",
    "Here is a crucial and incredibly handy feature of DataLad datasets:\n",
    "After cloning, the dataset contains small files, such as the README, but larger files do not have any content yet.\n",
    "It only retrieved what we can simplistically refer to as file availability metadata, which is displayed as the file hierarchy in the dataset.\n",
    "While we can read the file names and determine what the dataset contains, we don’t have access to the file contents *yet*.\n",
    "If we were to try to play one of the recordings using the Python `Audio` functionality, this would fail."
   ]
  },
  {
   "cell_type": "code",
   "execution_count": null,
   "id": "df38e4ec",
   "metadata": {
    "hide-output": false
   },
   "outputs": [],
   "source": [
    "# vlc Long_Now__Seminars_About_Long_term_Thinking/2003_11_15__Brian_Eno__The_Long_Now.mp3\n",
    "#from IPython.display import *\n",
    "\n",
    "#Audio(filename=\"Long_Now__Seminars_About_Long_term_Thinking/2003_11_15__Brian_Eno__The_Long_Now.mp3\", autoplay=True)"
   ]
  },
  {
   "cell_type": "markdown",
   "id": "f68eb660",
   "metadata": {},
   "source": [
    "This might seem like curious behavior, but there are many advantages to it.\n",
    "One advantage is speed, and another is reduced disk usage.\n",
    "Here is the total size of this dataset:"
   ]
  },
  {
   "cell_type": "code",
   "execution_count": null,
   "id": "642d1d07",
   "metadata": {
    "hide-output": false
   },
   "outputs": [],
   "source": [
    "cd ../"
   ]
  },
  {
   "cell_type": "code",
   "execution_count": null,
   "id": "3e78aeca",
   "metadata": {},
   "outputs": [],
   "source": [
    "du -sh  # Unix command to show size of contents"
   ]
  },
  {
   "cell_type": "markdown",
   "id": "a381c392",
   "metadata": {},
   "source": [
    "It is tiny!\n",
    "However, we can also find out how large the dataset would be if we had all of its contents by using `datalad status` with the `--annex` flag.\n",
    "In total, there are more than 15 GB of podcasts that you now have access to."
   ]
  },
  {
   "cell_type": "code",
   "execution_count": null,
   "id": "dd4b7b28",
   "metadata": {
    "hide-output": false
   },
   "outputs": [],
   "source": [
    "datalad status --annex"
   ]
  },
  {
   "cell_type": "markdown",
   "id": "978ff507",
   "metadata": {},
   "source": [
    "You can retrieve individual files, groups of files, directories, or entire datasets using the ` datalad get` command.\n",
    "This command fetches the content for you."
   ]
  },
  {
   "cell_type": "code",
   "execution_count": null,
   "id": "b30ad6cc",
   "metadata": {
    "hide-output": false
   },
   "outputs": [],
   "source": [
    "datalad get Long_Now__Seminars_About_Long_term_Thinking/2003_11_15__Brian_Eno__The_Long_Now.mp3"
   ]
  },
  {
   "cell_type": "markdown",
   "id": "d5078b11",
   "metadata": {},
   "source": [
    "Content that is already present is not re-retrieved.  "
   ]
  },
  {
   "cell_type": "code",
   "execution_count": null,
   "id": "52177097",
   "metadata": {
    "hide-output": false
   },
   "outputs": [],
   "source": [
    "datalad get Long_Now__Seminars_About_Long_term_Thinking/2003_11_15__Brian_Eno__The_Long_Now.mp3  \\Long_Now__Seminars_About_Long_term_Thinking/2003_12_13__Peter_Schwartz__The_Art_Of_The_Really_Long_View.mp3  \\Long_Now__Seminars_About_Long_term_Thinking/2004_01_10__George_Dyson__There_s_Plenty_of_Room_at_the_Top__Long_term_Thinking_About_Large_scale_Computing.mp3"
   ]
  },
  {
   "cell_type": "markdown",
   "id": "c1051c1f",
   "metadata": {},
   "source": [
    "If you no longer need the data locally, you can drop the content from your dataset to save disk space."
   ]
  },
  {
   "cell_type": "code",
   "execution_count": null,
   "id": "6d933f2a",
   "metadata": {
    "hide-output": false
   },
   "outputs": [],
   "source": [
    "datalad drop Long_Now__Seminars_About_Long_term_Thinking/2003_12_13__Peter_Schwartz__The_Art_Of_The_Really_Long_View.mp3"
   ]
  },
  {
   "cell_type": "markdown",
   "id": "6108b388",
   "metadata": {},
   "source": [
    "Afterwards, as long as DataLad knows where a file came from, its content can be retrieved again."
   ]
  },
  {
   "cell_type": "code",
   "execution_count": null,
   "id": "b21f9a56",
   "metadata": {
    "hide-output": false
   },
   "outputs": [],
   "source": [
    "datalad get Long_Now__Seminars_About_Long_term_Thinking/2003_12_13__Peter_Schwartz__The_Art_Of_The_Really_Long_View.mp3"
   ]
  },
  {
   "cell_type": "markdown",
   "id": "89aec37b",
   "metadata": {},
   "source": [
    "<div id=\"4\"></div>\n",
    "\n",
    "## 4. Dataset nesting\n",
    "\n",
    "Datasets can contain other datasets (subdatasets), nested arbitrarily deep.\n",
    "Each dataset has an independent revision history, but can be registered at a precise version in higher-level datasets.\n",
    "This allows to combine datasets and to perform commands recursively across a hierarchy of datasets, and it is the basis for advanced provenance capture abilities.\n",
    "\n",
    "<img src=\"https://handbook.datalad.org/en/latest/_images/linkage_subds.svg\" style=\"width: 600px;\"/>\n",
    "\n",
    "Let’s take a look at the history of the `longnow` subdataset.\n",
    "We can see that it has preserved its history completely.\n",
    "This means that the data we retrieved retains all of its provenance."
   ]
  },
  {
   "cell_type": "code",
   "execution_count": null,
   "id": "3e5d024a",
   "metadata": {
    "hide-output": false
   },
   "outputs": [],
   "source": [
    "git log --reverse"
   ]
  },
  {
   "cell_type": "markdown",
   "id": "52e8b705",
   "metadata": {},
   "source": [
    "How does this look in the top-level dataset?\n",
    "If we query the history of `DataLad-101`, there will be no commits related to MP3 files or any of the commits we have seen in the subdataset.\n",
    "Instead, we can see that the superdataset recorded the `recordings/longnow` dataset as a subdataset.\n",
    "This means it recorded where this dataset came from and what version it is in."
   ]
  },
  {
   "cell_type": "code",
   "execution_count": null,
   "id": "b5e3a16a",
   "metadata": {
    "hide-output": false
   },
   "outputs": [],
   "source": [
    "cd ../../"
   ]
  },
  {
   "cell_type": "code",
   "execution_count": null,
   "id": "457673a1",
   "metadata": {},
   "outputs": [],
   "source": [
    "git log -n 1"
   ]
  },
  {
   "cell_type": "markdown",
   "id": "6b9d8846",
   "metadata": {},
   "source": [
    "The subproject commit registered the most recent commit of the subdataset, and thus\n",
    "the subdataset version:"
   ]
  },
  {
   "cell_type": "code",
   "execution_count": null,
   "id": "764eee5e",
   "metadata": {
    "hide-output": false
   },
   "outputs": [],
   "source": [
    "cd recordings/longnow"
   ]
  },
  {
   "cell_type": "code",
   "execution_count": null,
   "id": "f5e50a9a",
   "metadata": {},
   "outputs": [],
   "source": [
    "git log --oneline"
   ]
  },
  {
   "cell_type": "code",
   "execution_count": null,
   "id": "a2090f5f",
   "metadata": {},
   "outputs": [],
   "source": [
    "cd ../../"
   ]
  },
  {
   "cell_type": "markdown",
   "id": "e46d8aa9",
   "metadata": {},
   "source": [
    "<div id=\"5\"></div>\n",
    "\n",
    "## 5. More on data versioning, nesting, and a glimpse into reproducible paper\n",
    "\n",
    "We'll clone a repository for a [paper](https://doi.org/10.3758/s13428-020-01428-x) that [shares manuscript, code, and data](https://github.com/psychoinformatics-de/paper-remodnav/):"
   ]
  },
  {
   "cell_type": "code",
   "execution_count": null,
   "id": "6aca7c57",
   "metadata": {
    "hide-output": false
   },
   "outputs": [],
   "source": [
    "cd ../"
   ]
  },
  {
   "cell_type": "code",
   "execution_count": null,
   "id": "70f2aaeb",
   "metadata": {},
   "outputs": [],
   "source": [
    "datalad clone https://github.com/psychoinformatics-de/paper-remodnav.git"
   ]
  },
  {
   "cell_type": "markdown",
   "id": "f893bbb3",
   "metadata": {},
   "source": [
    "The top-level dataset has many subdatasets. One of it, `remodnav`, is a dataset that contains the sourcecode for a Python package called `remodnav` used in eyetracking analyses:"
   ]
  },
  {
   "cell_type": "code",
   "execution_count": null,
   "id": "15989ce9",
   "metadata": {
    "hide-output": false
   },
   "outputs": [],
   "source": [
    "cd paper-remodnav"
   ]
  },
  {
   "cell_type": "code",
   "execution_count": null,
   "id": "75840459",
   "metadata": {},
   "outputs": [],
   "source": [
    "datalad subdatasets"
   ]
  },
  {
   "cell_type": "markdown",
   "id": "c61db997",
   "metadata": {},
   "source": [
    "After cloning a dataset, its subdatasets will be recognized, but just as content is not yet retrieved for files in datasets, the subdatasets of datasets are not yet installed.\n",
    "If we navigate into an uninstalled subdataset, it will appear as an empty directory."
   ]
  },
  {
   "cell_type": "code",
   "execution_count": null,
   "id": "91fb1872",
   "metadata": {
    "hide-output": false
   },
   "outputs": [],
   "source": [
    "cd remodnav"
   ]
  },
  {
   "cell_type": "code",
   "execution_count": null,
   "id": "8a8ab210",
   "metadata": {},
   "outputs": [],
   "source": [
    "ls"
   ]
  },
  {
   "cell_type": "markdown",
   "id": "3723f750",
   "metadata": {},
   "source": [
    "In order to install a subdataset, we use `datalad get` with the `--recursive` flag:"
   ]
  },
  {
   "cell_type": "code",
   "execution_count": null,
   "id": "5337ff8f",
   "metadata": {
    "hide-output": false
   },
   "outputs": [],
   "source": [
    "datalad get --recursive --recursion-limit 2 -n ."
   ]
  },
  {
   "cell_type": "code",
   "execution_count": null,
   "id": "6029bdb7",
   "metadata": {},
   "outputs": [],
   "source": [
    "ls"
   ]
  },
  {
   "cell_type": "markdown",
   "id": "4b4d53ec",
   "metadata": {},
   "source": [
    "This command not only retrieves file contents, but it also installs subdatasets.\n",
    "So, if you want to be really lazy, just run `datalad get --recursive -n` in the root of a dataset to install all available subdatasets.\n",
    "The `-n` option prevents `get` from downloading any data, so only the subdatasets are installed without any data being downloaded.\n",
    "Here, the depth of recursion is limited.\n",
    "For one, it would take a while to install all subdatasets, but the very raw eye tracking dataset contains subject IDs that should not be shared.\n",
    "Therefore, this subdataset is not accessible.\n",
    "If you try to install all subdatasets, the source eye tracking data will throw an error, because it is not made publicly available.\n",
    "\n",
    "Afterwards, you can see that the `remodnav` subdataset also contains further subdatasets.\n",
    "In this case, these subdatasets contain data used for testing and validating software performance."
   ]
  },
  {
   "cell_type": "code",
   "execution_count": null,
   "id": "6c6a75e5",
   "metadata": {
    "hide-output": false
   },
   "outputs": [],
   "source": [
    "datalad subdatasets"
   ]
  },
  {
   "cell_type": "markdown",
   "id": "258268b3",
   "metadata": {},
   "source": [
    "One of the validation data subdatasets came from another lab that shared their data.\n",
    "After the researchers were almost finished with their paper, they found another paper that reported a mistake in this data.\n",
    "The mistake was still present in the data they were using.\n",
    "By inspecting the history of this dataset, you can see that at one point, they contributed a fix that changed the data."
   ]
  },
  {
   "cell_type": "code",
   "execution_count": null,
   "id": "134de06a",
   "metadata": {
    "hide-output": false
   },
   "outputs": [],
   "source": [
    "cd remodnav/tests/data/anderson_etal"
   ]
  },
  {
   "cell_type": "code",
   "execution_count": null,
   "id": "3411e898",
   "metadata": {},
   "outputs": [],
   "source": [
    "git log -n 3"
   ]
  },
  {
   "cell_type": "markdown",
   "id": "0cfc587c",
   "metadata": {},
   "source": [
    "Because DataLad can link subdatasets to precise versions, it is possible to consciously decide and openly record which version of the data is used.\n",
    "It is also possible to test how much results change by resetting the subdataset to an earlier state or updating the dataset to a more recent version."
   ]
  },
  {
   "cell_type": "markdown",
   "id": "a4b07475",
   "metadata": {},
   "source": [
    "<div id=\"6\"></div>\n",
    "\n",
    "## 6. Full provenance capture and reproducibility\n",
    "\n",
    "DataLad allows to capture full provenance (i.e., a record that describes entities and processes that were involved in producing or influencing a digital resource):\n",
    "The origin of datasets, the origin of files obtained from web sources, complete machine-readable and automatically reproducible records of how files were created (including software environments).\n",
    "You or your collaborators can thus reobtain or reproducibly recompute content with a single command, and make use of extensive provenance of dataset content (who created it, when, and how?).\n",
    "\n",
    "<img src=\"https://handbook.datalad.org/en/latest/_images/reproducible_execution.svg\" style=\"width: 600px;\"/>"
   ]
  },
  {
   "cell_type": "code",
   "execution_count": null,
   "id": "ecf6dedf",
   "metadata": {
    "hide-output": false
   },
   "outputs": [],
   "source": [
    "cd ../../../../"
   ]
  },
  {
   "cell_type": "markdown",
   "id": "a3bc4a14",
   "metadata": {},
   "source": [
    "First, create a new dataset, in this case with the `yoda` configuration:"
   ]
  },
  {
   "cell_type": "code",
   "execution_count": null,
   "id": "3646b4f0",
   "metadata": {
    "hide-output": false,
    "scrolled": true
   },
   "outputs": [],
   "source": [
    "datalad create -c yoda myanalysis"
   ]
  },
  {
   "cell_type": "markdown",
   "id": "bf6ed73e",
   "metadata": {},
   "source": [
    "This sets up a helpful structure for my dataset with a code directory and some README files,\n",
    "and applies helpful configurations:"
   ]
  },
  {
   "cell_type": "code",
   "execution_count": null,
   "id": "16c2b3e7",
   "metadata": {
    "hide-output": false
   },
   "outputs": [],
   "source": [
    "cd myanalysis"
   ]
  },
  {
   "cell_type": "code",
   "execution_count": null,
   "id": "2cbf07a0",
   "metadata": {},
   "outputs": [],
   "source": [
    "tree"
   ]
  },
  {
   "cell_type": "markdown",
   "id": "eca67225",
   "metadata": {},
   "source": [
    "Read more about the YODA principles and the YODA configuration in the [section on YODA](https://handbook.datalad.org/en/latest/basics/101-127-yoda.html) in the DataLad Handbook.\n",
    "\n",
    "Next, install the input data as a subdataset.\n",
    "For this, the DataLad developers created a [DataLad dataset](https://github.com/datalad-handbook/iris_data.git) with the [\"iris\" data](https://en.wikipedia.org/wiki/Iris_flower_data_set) and published it on GitHub.\n",
    "Here, we're installing it into a directory named `input`."
   ]
  },
  {
   "cell_type": "code",
   "execution_count": null,
   "id": "82a78d87",
   "metadata": {
    "hide-output": false
   },
   "outputs": [],
   "source": [
    "datalad clone -d . https://github.com/datalad-handbook/iris_data.git input/"
   ]
  },
  {
   "cell_type": "markdown",
   "id": "99913a9e",
   "metadata": {},
   "source": [
    "The last thing needed is code to run on the data and produce results.\n",
    "For this, here is a k-means classification analysis script written in Python.\n",
    "You can find more details about this analysis in the [section on a YODA-compliant data analysis projects](https://handbook.datalad.org/en/latest/basics/101-130-yodaproject.html)."
   ]
  },
  {
   "cell_type": "code",
   "execution_count": null,
   "id": "da7e897b",
   "metadata": {
    "hide-output": false
   },
   "outputs": [],
   "source": [
    "cat << EOT > code/script.py\n",
    "\n",
    "import pandas as pd\n",
    "import seaborn as sns\n",
    "import datalad.api as dl\n",
    "from sklearn import model_selection\n",
    "from sklearn.neighbors import KNeighborsClassifier\n",
    "from sklearn.metrics import classification_report\n",
    "\n",
    "data = \"input/iris.csv\"\n",
    "\n",
    "# make sure that the data are obtained (get will also install linked sub-ds!):\n",
    "dl.get(data)\n",
    "\n",
    "# prepare the data as a pandas dataframe\n",
    "df = pd.read_csv(data)\n",
    "attributes = [\"sepal_length\", \"sepal_width\", \"petal_length\",\"petal_width\", \"class\"]\n",
    "df.columns = attributes\n",
    "\n",
    "# create a pairplot to plot pairwise relationships in the dataset\n",
    "plot = sns.pairplot(df, hue='class', palette='muted')\n",
    "plot.savefig('pairwise_relationships.png')\n",
    "\n",
    "# perform a K-nearest-neighbours classification with scikit-learn\n",
    "# Step 1: split data in test and training dataset (20:80)\n",
    "array = df.values\n",
    "X = array[:,0:4]\n",
    "Y = array[:,4]\n",
    "test_size = 0.20\n",
    "seed = 7\n",
    "X_train, X_test, Y_train, Y_test = model_selection.train_test_split(X, Y,\n",
    "                                                                    test_size=test_size,\n",
    "                                                                    random_state=seed)\n",
    "# Step 2: Fit the model and make predictions on the test dataset\n",
    "knn = KNeighborsClassifier()\n",
    "knn.fit(X_train, Y_train)\n",
    "predictions = knn.predict(X_test)\n",
    "\n",
    "# Step 3: Save the classification report\n",
    "report = classification_report(Y_test, predictions, output_dict=True)\n",
    "df_report = pd.DataFrame(report).transpose().to_csv('prediction_report.csv')\n",
    "\n",
    "EOT"
   ]
  },
  {
   "cell_type": "markdown",
   "id": "4168a084",
   "metadata": {},
   "source": [
    "So far the script is untracked:"
   ]
  },
  {
   "cell_type": "code",
   "execution_count": null,
   "id": "15a62268",
   "metadata": {
    "hide-output": false
   },
   "outputs": [],
   "source": [
    "datalad status"
   ]
  },
  {
   "cell_type": "markdown",
   "id": "280b4789",
   "metadata": {},
   "source": [
    "Let's save it with a `datalad save` command:"
   ]
  },
  {
   "cell_type": "code",
   "execution_count": null,
   "id": "77450640",
   "metadata": {
    "hide-output": false
   },
   "outputs": [],
   "source": [
    "datalad save -m \"Add script for kNN classification and plotting\" code/script.py"
   ]
  },
  {
   "cell_type": "markdown",
   "id": "3a71df96",
   "metadata": {},
   "source": [
    "### `datalad run`\n",
    "\n",
    "The challenge that DataLad helps accomplish is running this script in a way that links the script to the results it produces and the data it was computed from.\n",
    "We can do this with the `datalad run` command.\n",
    "In principle, it is simple.\n",
    "You start with a clean dataset:"
   ]
  },
  {
   "cell_type": "code",
   "execution_count": null,
   "id": "b83b72d3",
   "metadata": {
    "hide-output": false
   },
   "outputs": [],
   "source": [
    "datalad status"
   ]
  },
  {
   "cell_type": "markdown",
   "id": "dd923faa",
   "metadata": {},
   "source": [
    "Then, give the command you would execute with `datalad run`, in this case `python code/script.py`.\n",
    "DataLad will take the command, run it, and save all of the changes in the dataset under the commit message specified with the `-m` option.\n",
    "Thus, it associates the script with the results.  \n",
    "\n",
    "But it can be even more helpful.\n",
    "Here, we also specify the input data that the command needs, and DataLad will retrieve the data beforehand.\n",
    "We also specify the output of the command.\n",
    "Specifying the outputs will allow us to rerun the command later and update any outdated results."
   ]
  },
  {
   "cell_type": "code",
   "execution_count": null,
   "id": "2781e3cd",
   "metadata": {
    "hide-output": false
   },
   "outputs": [],
   "source": [
    "datalad run -m \"Analyze iris data with classification analysis\" \\\n",
    "--input \"input/iris.csv\" \\\n",
    "--output \"prediction_report.csv\" \\\n",
    "--output \"pairwise_relationships.png\" \\\n",
    "\"python3 code/script.py\""
   ]
  },
  {
   "cell_type": "code",
   "execution_count": null,
   "id": "16452480",
   "metadata": {},
   "outputs": [],
   "source": [
    "datalad save pairwise_relationships.png"
   ]
  },
  {
   "cell_type": "markdown",
   "id": "e967d0b7",
   "metadata": {},
   "source": [
    "Let's take a look at the output:\n",
    "\n",
    "<img src=\"../myanalysis/pairwise_relationships.png\" style=\"width: 600px;\"/>"
   ]
  },
  {
   "cell_type": "markdown",
   "id": "e900c155",
   "metadata": {},
   "source": [
    "DataLad creates a commit in the dataset history.\n",
    "This commit includes my commit message as a human-readable summary of what was done.\n",
    "It contains the produced output, and it has a machine-readable record that includes information on the input data, the results, and the command that was run to create this result."
   ]
  },
  {
   "cell_type": "code",
   "execution_count": null,
   "id": "d7c657cd",
   "metadata": {
    "hide-output": false
   },
   "outputs": [],
   "source": [
    "git log -n 1"
   ]
  },
  {
   "cell_type": "markdown",
   "id": "a0f790d3",
   "metadata": {},
   "source": [
    "### `datalad rerun`\n",
    "\n",
    "This machine-readable record is particularly helpful, because we can now instruct DataLad to *rerun* this command.\n",
    "This means we don't have to memorize what we did, and people that we share the dataset with don’t need to ask how this result was produced.\n",
    "They can simply let DataLad tell them.\n",
    "\n",
    "This is accomplished with the `datalad rerun` command.  \n",
    "For this demonstration, Adina Wagner has prepared this analysis dataset and published it to GitHub at [github.com/adswa/my_analysis](https://github.com/adswa/myanalysis)."
   ]
  },
  {
   "cell_type": "code",
   "execution_count": null,
   "id": "7de8b3cc",
   "metadata": {
    "hide-output": false
   },
   "outputs": [],
   "source": [
    "cd ../"
   ]
  },
  {
   "cell_type": "code",
   "execution_count": null,
   "id": "77777873",
   "metadata": {},
   "outputs": [],
   "source": [
    "git clone https://github.com/adswa/myanalysis.git analysis_clone"
   ]
  },
  {
   "cell_type": "code",
   "execution_count": null,
   "id": "ff61d1de",
   "metadata": {},
   "outputs": [],
   "source": [
    "cd analysis_clone"
   ]
  },
  {
   "cell_type": "markdown",
   "id": "33531570",
   "metadata": {},
   "source": [
    "We can clone this repository and provide, for example, the checksum of the run command to the `datalad rerun` command.\n",
    "DataLad will read the machine-readable record of what was done and recompute the exact same thing."
   ]
  },
  {
   "cell_type": "code",
   "execution_count": null,
   "id": "bb780ce1",
   "metadata": {
    "hide-output": false
   },
   "outputs": [],
   "source": [
    "datalad rerun 71cb8c5"
   ]
  },
  {
   "cell_type": "markdown",
   "id": "d82c4822",
   "metadata": {},
   "source": [
    "This allows others to easily rerun my computations.\n",
    "It also spares you the need to remember how you executed a script, and you can inquire about where the results came from."
   ]
  },
  {
   "cell_type": "code",
   "execution_count": null,
   "id": "14d86293",
   "metadata": {
    "hide-output": false
   },
   "outputs": [],
   "source": [
    "git log pairwise_relationships.png"
   ]
  },
  {
   "cell_type": "markdown",
   "id": "27aa23b1",
   "metadata": {},
   "source": [
    "**Done! Thanks for coding along!**"
   ]
  }
 ],
 "metadata": {
  "kernelspec": {
   "display_name": "Bash",
   "language": "bash",
   "name": "bash"
  },
  "language_info": {
   "codemirror_mode": "shell",
   "file_extension": ".sh",
   "mimetype": "text/x-sh",
   "name": "bash"
  }
 },
 "nbformat": 4,
 "nbformat_minor": 5
}
